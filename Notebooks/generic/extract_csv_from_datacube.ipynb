{
 "cells": [
  {
   "cell_type": "markdown",
   "metadata": {
    "hide_input": false
   },
   "source": [
    "# Get Time Series for the Data Cube"
   ]
  },
  {
   "cell_type": "code",
   "execution_count": 2,
   "metadata": {
    "hide_input": true,
    "init_cell": true,
    "scrolled": false
   },
   "outputs": [
    {
     "data": {
      "text/html": [
       "\n",
       "<style>\n",
       ".container { \n",
       "    width:60% !important; \n",
       "}\n",
       "</style>\n"
      ],
      "text/plain": [
       "<IPython.core.display.HTML object>"
      ]
     },
     "metadata": {},
     "output_type": "display_data"
    },
    {
     "data": {
      "text/html": [
       "<style>\n",
       "    .widget-label { min-width: 20ex !important; }\n",
       "</style>"
      ],
      "text/plain": [
       "<IPython.core.display.HTML object>"
      ]
     },
     "metadata": {},
     "output_type": "display_data"
    },
    {
     "data": {
      "application/vnd.jupyter.widget-view+json": {
       "model_id": "f7af03dd9f2943258fbd6fd05cced330",
       "version_major": 2,
       "version_minor": 0
      },
      "text/plain": [
       "HBox(children=(VBox(children=(RadioButtons(description='Number of Products:', layout=Layout(height='auto', wid…"
      ]
     },
     "metadata": {},
     "output_type": "display_data"
    },
    {
     "data": {
      "application/vnd.jupyter.widget-view+json": {
       "model_id": "4bbf11a5762e4e4bba963c2c61372cb2",
       "version_major": 2,
       "version_minor": 0
      },
      "text/plain": [
       "Label(value='')"
      ]
     },
     "metadata": {},
     "output_type": "display_data"
    },
    {
     "data": {
      "application/vnd.jupyter.widget-view+json": {
       "model_id": "a5d7c5746a38496ab4674f67a20f55c4",
       "version_major": 2,
       "version_minor": 0
      },
      "text/plain": [
       "Output()"
      ]
     },
     "metadata": {},
     "output_type": "display_data"
    }
   ],
   "source": [
    "import sys\n",
    "sys.path.append(\"../../helpers\")\n",
    "\n",
    "from data import Data\n",
    "from maptools import MapTools\n",
    "from widgets import Widgets\n",
    "\n",
    "import ipywidgets as widgets\n",
    "#import matplotlib\n",
    "#matplotlib.use('nbagg')\n",
    "from IPython.core.display import HTML\n",
    "\n",
    "display(HTML(\"\"\"\n",
    "<style>\n",
    ".container { \n",
    "    width:60% !important; \n",
    "}\n",
    "</style>\n",
    "\"\"\"))\n",
    "\n",
    "display(HTML('''<style>\n",
    "    .widget-label { min-width: 20ex !important; }\n",
    "</style>'''))\n",
    "\n",
    "%matplotlib inline\n",
    "\n",
    "def on_button_clicked(b): \n",
    "    button.disabled = True\n",
    "    d = Data(out)\n",
    "    \n",
    "    if num_prods.value == 1:\n",
    "        data = d.data_to_csv(product1.value,\n",
    "                      subproduct1.value,\n",
    "                      latitude.value,\n",
    "                      longitude.value,\n",
    "                      start.value,\n",
    "                      end.value)\n",
    "    else:\n",
    "        data = d.data_to_csv(product1.value,\n",
    "                      subproduct1.value,\n",
    "                      latitude.value,\n",
    "                      longitude.value,\n",
    "                      start.value,\n",
    "                      end.value,\n",
    "                      product2.value,\n",
    "                      subproduct2.value)     \n",
    "        \n",
    "    button.disabled = False\n",
    "    \n",
    "m = MapTools(center=(1, -5), zoom=3, width='380px', height='500px')\n",
    "m.map.add_control(m.dc)\n",
    "m.prepare_map(rect=False)\n",
    "\n",
    "w = Widgets()\n",
    "num_prods = w.number_of_products(options=[1, 2])\n",
    "start, end = w.get_date_widgets()\n",
    "latitude, longitude = w.get_lat_lon_widgets()\n",
    "product1 = w.product(\"Product 1:\", \"product1\")\n",
    "subproduct1 = w.subproduct(\"Subproduct 1:\", \"subproduct1\")\n",
    "product2 = w.product(\"Product 2:\", \"product2\")\n",
    "subproduct2 = w.subproduct(\"Subproduct 2:\", \"subproduct2\")\n",
    "button = w.set_up_button(on_button_clicked, 'Get csv')\n",
    "w.display_widgets_csv(num_prods, product1, subproduct1, product2, subproduct2, \n",
    "                      latitude, longitude, start, end, button, m.map)\n",
    "\n",
    "label = widgets.Label()\n",
    "m.mouse_interaction(label)\n",
    "\n",
    "def update_lat(x):\n",
    "    \"\"\"\"\n",
    "    Updates the latitude coordinate display by linking widgets. \n",
    "    \n",
    "    :param x: update value\n",
    "    \"\"\"\n",
    "    w = MapTools.update_nesw(x)\n",
    "    l = widgets.link((w.children[0], 'value'), (latitude, 'value'))\n",
    "\n",
    "def update_lon(x):\n",
    "    \"\"\"\"\n",
    "    Updates the longitude coordinate display by linking widgets. \n",
    "    \n",
    "    :param x: update value\n",
    "    \"\"\"\n",
    "    w = MapTools.update_nesw(x)\n",
    "    l = widgets.link((w.children[0], 'value'), (longitude, 'value'))\n",
    "\n",
    "    \n",
    "def handle_draw(self, action, geo_json):\n",
    "    \"\"\"\n",
    "    Handles drawing of layers on the map by extracting coordinates\n",
    "    and updating the relevant coordinate display box.\n",
    "    \n",
    "    :param action: \n",
    "    :param geo_json: \n",
    "    \n",
    "    :return:\n",
    "    \"\"\"\n",
    "    w = Widgets()\n",
    "    d = Data(out)\n",
    "    \n",
    "    s = geo_json.get('geometry','type')\n",
    "    t = s.get('type')\n",
    "    \n",
    "    if t == 'Point':\n",
    "        north, east, south, west = MapTools.get_coords_point(geo_json)\n",
    "        update_lat(north)\n",
    "        update_lon(east)\n",
    "\n",
    "\n",
    "    if t == 'Polygon':\n",
    "        pass\n",
    "\n",
    "# Define a function that updates the content of y based on what we select for x\n",
    "def update(*args):\n",
    "    subproduct1.options = w.get_subproduct_list(product1.value)\n",
    "    subproduct2.options = w.get_subproduct_list(product2.value)\n",
    "    \n",
    "# Updates the selection of product/subproducts\n",
    "def update_number(*args):\n",
    "    if num_prods.value == 1:\n",
    "        product2.layout.visibility = 'hidden'\n",
    "        subproduct2.layout.visibility = 'hidden'\n",
    "        \n",
    "    elif num_prods.value == 2:\n",
    "        product2.layout.visibility = 'visible'\n",
    "        subproduct2.layout.visibility = 'visible'     \n",
    "\n",
    "update()\n",
    "update_number()\n",
    "num_prods.observe(update_number)\n",
    "product1.observe(update)\n",
    "product2.observe(update)\n",
    "\n",
    "\n",
    "out = w.display_output()\n",
    "\n",
    "m.dc.on_draw(handle_draw)"
   ]
  }
 ],
 "metadata": {
  "celltoolbar": "Initialization Cell",
  "kernelspec": {
   "display_name": "Python 3",
   "language": "python",
   "name": "python3"
  },
  "language_info": {
   "codemirror_mode": {
    "name": "ipython",
    "version": 3
   },
   "file_extension": ".py",
   "mimetype": "text/x-python",
   "name": "python",
   "nbconvert_exporter": "python",
   "pygments_lexer": "ipython3",
   "version": "3.7.3"
  },
  "varInspector": {
   "cols": {
    "lenName": 16,
    "lenType": 16,
    "lenVar": 40
   },
   "kernels_config": {
    "python": {
     "delete_cmd_postfix": "",
     "delete_cmd_prefix": "del ",
     "library": "var_list.py",
     "varRefreshCmd": "print(var_dic_list())"
    },
    "r": {
     "delete_cmd_postfix": ") ",
     "delete_cmd_prefix": "rm(",
     "library": "var_list.r",
     "varRefreshCmd": "cat(var_dic_list()) "
    }
   },
   "types_to_exclude": [
    "module",
    "function",
    "builtin_function_or_method",
    "instance",
    "_Feature"
   ],
   "window_display": false
  }
 },
 "nbformat": 4,
 "nbformat_minor": 2
}
