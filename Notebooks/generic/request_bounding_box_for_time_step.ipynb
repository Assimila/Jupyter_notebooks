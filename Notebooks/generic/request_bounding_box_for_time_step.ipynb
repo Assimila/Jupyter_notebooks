{
 "cells": [
  {
   "cell_type": "markdown",
   "metadata": {},
   "source": [
    "# Displaying North East South West for 1 time step with leaflet"
   ]
  },
  {
   "cell_type": "code",
   "execution_count": 2,
   "metadata": {
    "editable": false,
    "hide_input": true,
    "scrolled": false
   },
   "outputs": [
    {
     "ename": "ModuleNotFoundError",
     "evalue": "No module named 'helpers.helpers'",
     "output_type": "error",
     "traceback": [
      "\u001b[0;31m---------------------------------------------------------------------------\u001b[0m",
      "\u001b[0;31mModuleNotFoundError\u001b[0m                       Traceback (most recent call last)",
      "\u001b[0;32m<ipython-input-2-ac772a528ec2>\u001b[0m in \u001b[0;36m<module>\u001b[0;34m\u001b[0m\n\u001b[1;32m      1\u001b[0m \u001b[0;32mimport\u001b[0m \u001b[0msys\u001b[0m\u001b[0;34m\u001b[0m\u001b[0;34m\u001b[0m\u001b[0m\n\u001b[1;32m      2\u001b[0m \u001b[0msys\u001b[0m\u001b[0;34m.\u001b[0m\u001b[0mpath\u001b[0m\u001b[0;34m.\u001b[0m\u001b[0mappend\u001b[0m\u001b[0;34m(\u001b[0m\u001b[0;34m\"helpers\"\u001b[0m\u001b[0;34m)\u001b[0m\u001b[0;34m\u001b[0m\u001b[0;34m\u001b[0m\u001b[0m\n\u001b[0;32m----> 3\u001b[0;31m \u001b[0;32mimport\u001b[0m \u001b[0mhelpers\u001b[0m\u001b[0;34m.\u001b[0m\u001b[0mhelpers\u001b[0m \u001b[0;32mas\u001b[0m \u001b[0mhelpers\u001b[0m\u001b[0;34m\u001b[0m\u001b[0;34m\u001b[0m\u001b[0m\n\u001b[0m\u001b[1;32m      4\u001b[0m \u001b[0mget_ipython\u001b[0m\u001b[0;34m(\u001b[0m\u001b[0;34m)\u001b[0m\u001b[0;34m.\u001b[0m\u001b[0mrun_line_magic\u001b[0m\u001b[0;34m(\u001b[0m\u001b[0;34m'matplotlib'\u001b[0m\u001b[0;34m,\u001b[0m \u001b[0;34m'inline '\u001b[0m\u001b[0;34m)\u001b[0m\u001b[0;34m\u001b[0m\u001b[0;34m\u001b[0m\u001b[0m\n\u001b[1;32m      5\u001b[0m \u001b[0;34m\u001b[0m\u001b[0m\n",
      "\u001b[0;31mModuleNotFoundError\u001b[0m: No module named 'helpers.helpers'"
     ]
    }
   ],
   "source": [
    "import sys\n",
    "sys.path.append(\"helpers\")\n",
    "import helpers.helpers as helpers\n",
    "%matplotlib inline \n",
    "\n",
    "from ipyleaflet import (Map, Marker, basemaps, basemap_to_tiles, TileLayer, ImageOverlay,\n",
    "    Polyline, Polygon, Rectangle,  GeoJSON, WidgetControl, DrawControl, LayerGroup, FullScreenControl, interactive)\n",
    "\n",
    "import ipywidgets as widgets\n",
    "import datetime\n",
    "\n",
    "def on_button_clicked(b):\n",
    "    h = helpers.Helpers(out)\n",
    "    h.color_map_nesw(product.value, subproduct.value, north.value,east.value, south.value, west.value,\n",
    "                                                  date, hour)\n",
    "\n",
    "m = Map(center=(1, -5), zoom=2, layout=dict(width='400px', height='300px'))\n",
    "\n",
    "dc = DrawControl()\n",
    "m.add_control(dc)\n",
    "\n",
    "helpers.Helpers.prepare_map(dc, m)\n",
    "\n",
    "w = helpers.Widgets()\n",
    "product = w.product()\n",
    "subproduct = w.subproduct()\n",
    "north = w.get_point(38.0, 'North: ')\n",
    "east = w.get_point(53.0, 'East: ')\n",
    "south = w.get_point((-36), 'South: ')\n",
    "west = w.get_point((-19), 'West: ')\n",
    "date = w.get_date(datetime.datetime(2018,1,1), 'Date: ')\n",
    "hour = w.get_hour('00', 'Hour: ')\n",
    "button = w.set_up_button(on_button_clicked)\n",
    "w.display_widgets(product, subproduct, north, east, south, west, date, hour, button, m)\n",
    "\n",
    "label = widgets.Label()\n",
    "helpers.Helpers.mouse_interaction(m, label)\n",
    "\n",
    "def update_north(x):\n",
    "    w = helpers.Helpers.update_nesw(x)\n",
    "    l = widgets.link((w.children[0], 'value'), (north, 'value'))\n",
    "\n",
    "def update_east(x):\n",
    "    w = helpers.Helpers.update_nesw(x)\n",
    "    l = widgets.link((w.children[0], 'value'), (east, 'value'))\n",
    "\n",
    "def update_south(x):\n",
    "    w = helpers.Helpers.update_nesw(x)\n",
    "    l = widgets.link((w.children[0], 'value'), (south, 'value'))\n",
    "\n",
    "def update_west(x):\n",
    "    w = helpers.Helpers.update_nesw(x)\n",
    "    l = widgets.link((w.children[0], 'value'), (west, 'value'))    \n",
    "    \n",
    "\n",
    "def handle_draw(self, action, geo_json):\n",
    "    w = helpers.Widgets()\n",
    "    s = geo_json.get('geometry','type')\n",
    "    t = s.get('type')\n",
    "\n",
    "    h = helpers.Helpers(out)\n",
    "    if t == 'Point':\n",
    "        north, east, south, west = h.get_coords_point(action, geo_json)\n",
    "        update_north(north)\n",
    "        update_east(east)\n",
    "        update_south(south)\n",
    "        update_west(west)\n",
    "\n",
    "    if t == 'Polygon':\n",
    "        north, east, south, west = h.get_coords_polygon(action, geo_json)\n",
    "        update_north(north)\n",
    "        update_east(east)\n",
    "        update_south(south)\n",
    "        update_west(west)\n",
    "\n",
    "def update(*args):\n",
    "    subproduct.options = w.get_subproduct_list(product.value)\n",
    "update()\n",
    "product.observe(update)\n",
    "\n",
    "out = w.display_output()\n",
    "\n",
    "dc.on_draw(handle_draw)\n"
   ]
  },
  {
   "cell_type": "code",
   "execution_count": 3,
   "metadata": {
    "hide_input": false,
    "init_cell": true
   },
   "outputs": [
    {
     "data": {
      "text/html": [
       "\n",
       "<style>\n",
       ".container { \n",
       "    width:60% !important; \n",
       "}\n",
       "</style>\n"
      ],
      "text/plain": [
       "<IPython.core.display.HTML object>"
      ]
     },
     "metadata": {},
     "output_type": "display_data"
    },
    {
     "data": {
      "text/html": [
       "<style>\n",
       "    .widget-label { min-width: 20ex !important; }\n",
       "</style>"
      ],
      "text/plain": [
       "<IPython.core.display.HTML object>"
      ]
     },
     "metadata": {},
     "output_type": "display_data"
    },
    {
     "data": {
      "application/vnd.jupyter.widget-view+json": {
       "model_id": "7c7648262a7544ff85b3ff491059d403",
       "version_major": 2,
       "version_minor": 0
      },
      "text/plain": [
       "HBox(children=(VBox(children=(Dropdown(description='Product:', layout=Layout(height='auto', width='auto'), opt…"
      ]
     },
     "metadata": {},
     "output_type": "display_data"
    },
    {
     "data": {
      "application/vnd.jupyter.widget-view+json": {
       "model_id": "f0d29a9719c842bf90337928a717735b",
       "version_major": 2,
       "version_minor": 0
      },
      "text/plain": [
       "Label(value='')"
      ]
     },
     "metadata": {},
     "output_type": "display_data"
    },
    {
     "data": {
      "application/vnd.jupyter.widget-view+json": {
       "model_id": "f69d7cb8777a48eebabb11ddc7c72ccf",
       "version_major": 2,
       "version_minor": 0
      },
      "text/plain": [
       "Output()"
      ]
     },
     "metadata": {},
     "output_type": "display_data"
    }
   ],
   "source": [
    "import sys\n",
    "sys.path.append(\"../../helpers\")\n",
    "\n",
    "from data import Data\n",
    "from maptools import MapTools\n",
    "from widgets import Widgets\n",
    "\n",
    "%matplotlib inline \n",
    "\n",
    "from ipyleaflet import (Map, Marker, basemaps, basemap_to_tiles, TileLayer, ImageOverlay,\n",
    "    Polyline, Polygon, Rectangle,  GeoJSON, WidgetControl, DrawControl, LayerGroup, FullScreenControl, interactive)\n",
    "\n",
    "import ipywidgets as widgets\n",
    "import datetime\n",
    "from IPython.core.display import HTML\n",
    "\n",
    "display(HTML(\"\"\"\n",
    "<style>\n",
    ".container { \n",
    "    width:60% !important; \n",
    "}\n",
    "</style>\n",
    "\"\"\"))\n",
    "\n",
    "display(HTML('''<style>\n",
    "    .widget-label { min-width: 20ex !important; }\n",
    "</style>'''))\n",
    "\n",
    "def on_button_clicked(b):\n",
    "    button.disabled = True\n",
    "    d = Data(out)\n",
    "    d.color_map_nesw(product.value, subproduct.value, north.value,east.value, south.value, west.value,\n",
    "                                                  date, hour)\n",
    "    button.disabled = False\n",
    "    \n",
    "m = MapTools(center=(1, -5), zoom=3, width='380px', height='500px')\n",
    "m.map.add_control(m.dc)\n",
    "m.prepare_map()\n",
    "\n",
    "w = Widgets()\n",
    "product = w.product()\n",
    "subproduct = w.subproduct()\n",
    "north = w.get_point(38.0, 'North: ')\n",
    "east = w.get_point(53.0, 'East: ')\n",
    "south = w.get_point((-36), 'South: ')\n",
    "west = w.get_point((-19), 'West: ')\n",
    "date = w.get_date(datetime.datetime(2018,1,1), 'Date: ')\n",
    "hour = w.get_hour('00', 'Hour: ')\n",
    "button = w.set_up_button(on_button_clicked, 'Get data')\n",
    "w.display_widgets(product, subproduct, north, east, south, west, date, hour, button, m.map)\n",
    "\n",
    "label = widgets.Label()\n",
    "m.mouse_interaction(label)\n",
    "\n",
    "def update_north(x):\n",
    "    \"\"\"\"\n",
    "    Updates the 'North' coordinate display by linking widgets. \n",
    "    \n",
    "    :param x: update value\n",
    "    \"\"\"\n",
    "    w = MapTools.update_nesw(x)\n",
    "    l = widgets.link((w.children[0], 'value'), (north, 'value'))\n",
    "\n",
    "def update_east(x):\n",
    "    \"\"\"\"\n",
    "    Updates the 'East' coordinate display by linking widgets. \n",
    "    \n",
    "    :param x: update value\n",
    "    \"\"\"\n",
    "    w = MapTools.update_nesw(x)\n",
    "    l = widgets.link((w.children[0], 'value'), (east, 'value'))\n",
    "\n",
    "def update_south(x):\n",
    "    \"\"\"\"\n",
    "    Updates the 'South' coordinate display by linking widgets. \n",
    "    \n",
    "    :param x: update value\n",
    "    \"\"\"\n",
    "    w = MapTools.update_nesw(x)\n",
    "    l = widgets.link((w.children[0], 'value'), (south, 'value'))\n",
    "\n",
    "def update_west(x):\n",
    "    \"\"\"\"\n",
    "    Updates the 'West' coordinate display by linking widgets. \n",
    "    \n",
    "    :param x: update value\n",
    "    \"\"\"\n",
    "    w = MapTools.update_nesw(x)\n",
    "    l = widgets.link((w.children[0], 'value'), (west, 'value'))    \n",
    "            \n",
    "        \n",
    "def handle_draw(self, action, geo_json):\n",
    "    \"\"\"\n",
    "    Handles drawing of layers on the map by extracting coordinates\n",
    "    and updating the relevant coordinate display box.\n",
    "    \n",
    "    :param action: \n",
    "    :param geo_json: \n",
    "    \n",
    "    :return:\n",
    "    \"\"\"\n",
    "    w = Widgets()\n",
    "    d = Data(out)\n",
    "    \n",
    "    s = geo_json.get('geometry','type')\n",
    "    t = s.get('type')\n",
    "    \n",
    "    if t == 'Point':\n",
    "        north, east, south, west = MapTools.get_coords_point(geo_json)\n",
    "        update_north(north)\n",
    "        update_east(east)\n",
    "        update_south(south)\n",
    "        update_west(west)\n",
    "\n",
    "    if t == 'Polygon':\n",
    "        north, east, south, west = MapTools.get_coords_polygon(geo_json)\n",
    "        update_north(north)\n",
    "        update_east(east)\n",
    "        update_south(south)\n",
    "        update_west(west)\n",
    "          \n",
    "        \n",
    "\n",
    "def update(*args):\n",
    "    subproduct.options = w.get_subproduct_list(product.value)\n",
    "update()\n",
    "product.observe(update)\n",
    "\n",
    "out = w.display_output()\n",
    "\n",
    "m.dc.on_draw(handle_draw)\n"
   ]
  },
  {
   "cell_type": "code",
   "execution_count": null,
   "metadata": {},
   "outputs": [],
   "source": []
  }
 ],
 "metadata": {
  "celltoolbar": "Initialization Cell",
  "kernelspec": {
   "display_name": "Python 3",
   "language": "python",
   "name": "python3"
  },
  "language_info": {
   "codemirror_mode": {
    "name": "ipython",
    "version": 3
   },
   "file_extension": ".py",
   "mimetype": "text/x-python",
   "name": "python",
   "nbconvert_exporter": "python",
   "pygments_lexer": "ipython3",
   "version": "3.7.3"
  },
  "varInspector": {
   "cols": {
    "lenName": 16,
    "lenType": 16,
    "lenVar": 40
   },
   "kernels_config": {
    "python": {
     "delete_cmd_postfix": "",
     "delete_cmd_prefix": "del ",
     "library": "var_list.py",
     "varRefreshCmd": "print(var_dic_list())"
    },
    "r": {
     "delete_cmd_postfix": ") ",
     "delete_cmd_prefix": "rm(",
     "library": "var_list.r",
     "varRefreshCmd": "cat(var_dic_list()) "
    }
   },
   "types_to_exclude": [
    "module",
    "function",
    "builtin_function_or_method",
    "instance",
    "_Feature"
   ],
   "window_display": false
  }
 },
 "nbformat": 4,
 "nbformat_minor": 2
}
