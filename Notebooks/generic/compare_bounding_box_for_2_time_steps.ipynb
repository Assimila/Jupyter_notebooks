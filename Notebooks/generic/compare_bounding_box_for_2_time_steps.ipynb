{
 "cells": [
  {
   "cell_type": "markdown",
   "metadata": {},
   "source": [
    "# Compare bounding box for 2 time steps"
   ]
  },
  {
   "cell_type": "code",
   "execution_count": 2,
   "metadata": {
    "editable": false,
    "hide_input": true,
    "init_cell": true,
    "scrolled": false
   },
   "outputs": [
    {
     "data": {
      "application/vnd.jupyter.widget-view+json": {
       "model_id": "975bc40091904c919959527a6d76785a",
       "version_major": 2,
       "version_minor": 0
      },
      "text/plain": [
       "HBox(children=(VBox(children=(Dropdown(description='Product:', layout=Layout(height='30px', width='400px'), op…"
      ]
     },
     "metadata": {},
     "output_type": "display_data"
    },
    {
     "data": {
      "application/vnd.jupyter.widget-view+json": {
       "model_id": "365d2de003dc46cbbf3e7755526bf1ab",
       "version_major": 2,
       "version_minor": 0
      },
      "text/plain": [
       "Label(value='')"
      ]
     },
     "metadata": {},
     "output_type": "display_data"
    },
    {
     "data": {
      "application/vnd.jupyter.widget-view+json": {
       "model_id": "c254750f113c46299c8425390b366f0f",
       "version_major": 2,
       "version_minor": 0
      },
      "text/plain": [
       "Output()"
      ]
     },
     "metadata": {},
     "output_type": "display_data"
    }
   ],
   "source": [
    "import sys\n",
    "sys.path.append(\"helpers/\")\n",
    "import helpers.helpers as helpers\n",
    "import matplotlib\n",
    "%matplotlib inline\n",
    "matplotlib.use(\"nbagg\")\n",
    "from IPython.display import clear_output\n",
    "\n",
    "from ipyleaflet import (Map, Marker, basemaps, basemap_to_tiles, \n",
    "                        TileLayer, ImageOverlay, Polyline, Polygon, \n",
    "                        Rectangle,  GeoJSON, WidgetControl,  DrawControl, \n",
    "                        LayerGroup, FullScreenControl, interactive)\n",
    "\n",
    "import ipywidgets as widgets\n",
    "import datetime\n",
    "\n",
    "def on_button_clicked(b):\n",
    "\n",
    "    h = helpers.Helpers(out)\n",
    "    m1 = h.color_map_nesw_compare(product.value, \n",
    "                                  subproduct.value, \n",
    "                                  north.value,\n",
    "                                  east.value, \n",
    "                                  south.value, \n",
    "                                  west.value,\n",
    "                                  date1, \n",
    "                                  hour1, \n",
    "                                  date2, \n",
    "                                  hour2)\n",
    "\n",
    "m = Map(center=(1, -5), zoom=2, layout=dict(width='400px', height='370px'))\n",
    "\n",
    "dc = DrawControl()\n",
    "m.add_control(dc)\n",
    "\n",
    "helpers.Helpers.prepare_map(dc, m)\n",
    "\n",
    "w = helpers.Widgets()\n",
    "product = w.product()\n",
    "subproduct = w.subproduct()\n",
    "north = w.get_point(38.0, 'North: ')\n",
    "east = w.get_point(53.0, 'East: ')\n",
    "south = w.get_point((-36), 'South: ')\n",
    "west = w.get_point((-19), 'West: ')\n",
    "date1 = w.get_date(datetime.datetime(2018,1,1), 'Date 1: ')\n",
    "hour1 = w.get_hour('00', 'Hour 1: ')\n",
    "date2 = w.get_date(datetime.datetime(2018,1,2), 'Date 2: ')\n",
    "hour2 = w.get_hour('00', 'Hour 2: ')\n",
    "button = w.set_up_button(on_button_clicked)\n",
    "w.display_widget_comparison(product, subproduct, north, east, south, west, \n",
    "                            date1, hour1, date2, hour2, button, m)\n",
    "\n",
    "label = widgets.Label()\n",
    "helpers.Helpers.mouse_interaction(m, label)\n",
    "\n",
    "def update_north(x):\n",
    "    w = helpers.Helpers.update_nesw(x)\n",
    "    l = widgets.link((w.children[0], 'value'), (north, 'value'))\n",
    "\n",
    "def update_east(x):\n",
    "    w = helpers.Helpers.update_nesw(x)\n",
    "    l = widgets.link((w.children[0], 'value'), (east, 'value'))\n",
    "\n",
    "def update_south(x):\n",
    "    w = helpers.Helpers.update_nesw(x)\n",
    "    l = widgets.link((w.children[0], 'value'), (south, 'value'))\n",
    "\n",
    "def update_west(x):\n",
    "    w = helpers.Helpers.update_nesw(x)\n",
    "    l = widgets.link((w.children[0], 'value'), (west, 'value'))    \n",
    "    \n",
    "\n",
    "def handle_draw(self, action, geo_json):\n",
    "    w = helpers.Widgets()\n",
    "    s = geo_json.get('geometry','type')\n",
    "    t = s.get('type')\n",
    "    \n",
    "    h = helpers.Helpers(out)\n",
    "    if t == 'Point':\n",
    "        north, east, south, west = h.get_coords_point(action, geo_json)\n",
    "        update_north(north)\n",
    "        update_east(east)\n",
    "        update_south(south)\n",
    "        update_west(west)\n",
    "\n",
    "    if t == 'Polygon':\n",
    "        north, east, south, west = h.get_coords_polygon(action, geo_json)\n",
    "        update_north(north)\n",
    "        update_east(east)\n",
    "        update_south(south)\n",
    "        update_west(west)\n",
    "\n",
    "def update(*args):\n",
    "    subproduct.options = w.get_subproduct_list(product.value)\n",
    "    \n",
    "update()\n",
    "product.observe(update)\n",
    "\n",
    "out = w.display_output()\n",
    "\n",
    "dc.on_draw(handle_draw)\n"
   ]
  }
 ],
 "metadata": {
  "celltoolbar": "Edit Metadata",
  "kernelspec": {
   "display_name": "Python 3",
   "language": "python",
   "name": "python3"
  },
  "language_info": {
   "codemirror_mode": {
    "name": "ipython",
    "version": 3
   },
   "file_extension": ".py",
   "mimetype": "text/x-python",
   "name": "python",
   "nbconvert_exporter": "python",
   "pygments_lexer": "ipython3",
   "version": "3.6.8"
  }
 },
 "nbformat": 4,
 "nbformat_minor": 2
}
