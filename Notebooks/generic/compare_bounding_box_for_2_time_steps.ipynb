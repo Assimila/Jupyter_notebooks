{
 "cells": [
  {
   "cell_type": "markdown",
   "metadata": {
    "hide_input": true
   },
   "source": [
    "![Assimila logo](../../helpers/logosmall.png \"Assimila\")\n",
    "# Compare bounding box for 2 time steps"
   ]
  },
  {
   "cell_type": "code",
   "execution_count": 2,
   "metadata": {
    "hide_input": false,
    "init_cell": true,
    "scrolled": false
   },
   "outputs": [
    {
     "data": {
      "text/html": [
       "\n",
       "<style>\n",
       ".container { \n",
       "    width:60% !important; \n",
       "}\n",
       "</style>\n"
      ],
      "text/plain": [
       "<IPython.core.display.HTML object>"
      ]
     },
     "metadata": {},
     "output_type": "display_data"
    },
    {
     "data": {
      "text/html": [
       "<style>\n",
       "    .widget-label { min-width: 20ex !important; }\n",
       "</style>"
      ],
      "text/plain": [
       "<IPython.core.display.HTML object>"
      ]
     },
     "metadata": {},
     "output_type": "display_data"
    },
    {
     "data": {
      "application/vnd.jupyter.widget-view+json": {
       "model_id": "ec1362f402db4fc38e3bac56e0647864",
       "version_major": 2,
       "version_minor": 0
      },
      "text/plain": [
       "HBox(children=(Map(center=[1, -5], controls=(ZoomControl(options=['position', 'zoom_in_text', 'zoom_in_title',…"
      ]
     },
     "metadata": {},
     "output_type": "display_data"
    },
    {
     "data": {
      "application/vnd.jupyter.widget-view+json": {
       "model_id": "6dd3190465d0477fbd8714994de0e542",
       "version_major": 2,
       "version_minor": 0
      },
      "text/plain": [
       "Label(value='')"
      ]
     },
     "metadata": {},
     "output_type": "display_data"
    },
    {
     "data": {
      "application/vnd.jupyter.widget-view+json": {
       "model_id": "256ff073cf314add827fc6fb13a31336",
       "version_major": 2,
       "version_minor": 0
      },
      "text/plain": [
       "Output()"
      ]
     },
     "metadata": {},
     "output_type": "display_data"
    }
   ],
   "source": [
    "import sys\n",
    "sys.path.append(\"../../helpers\")\n",
    "\n",
    "from data import Data\n",
    "from maptools import MapTools\n",
    "from widgets import Widgets\n",
    "\n",
    "import matplotlib\n",
    "%matplotlib inline\n",
    "matplotlib.use(\"nbagg\")\n",
    "from IPython.display import clear_output\n",
    "from IPython.core.display import HTML\n",
    "from ipyleaflet import (Map, Marker, basemaps, basemap_to_tiles, \n",
    "                        TileLayer, ImageOverlay, Polyline, Polygon, \n",
    "                        Rectangle,  GeoJSON, WidgetControl,  DrawControl, \n",
    "                        LayerGroup, FullScreenControl, interactive)\n",
    "\n",
    "import ipywidgets as widgets\n",
    "import datetime\n",
    "\n",
    "display(HTML(\"\"\"\n",
    "<style>\n",
    ".container { \n",
    "    width:60% !important; \n",
    "}\n",
    "</style>\n",
    "\"\"\"))\n",
    "\n",
    "display(HTML('''<style>\n",
    "    .widget-label { min-width: 20ex !important; }\n",
    "</style>'''))\n",
    "\n",
    "\n",
    "def on_button_clicked(b):\n",
    "    button.disabled = True\n",
    "    d = Data(out)\n",
    "    m1 = d.color_map_nesw_compare(product.value, \n",
    "                                  subproduct.value, \n",
    "                                  north.value,\n",
    "                                  east.value, \n",
    "                                  south.value, \n",
    "                                  west.value,\n",
    "                                  date1, \n",
    "                                  hour1, \n",
    "                                  date2, \n",
    "                                  hour2)\n",
    "    button.disabled = False\n",
    "\n",
    "def update_north(x):\n",
    "    \"\"\"\"\n",
    "    Updates the 'North' coordinate display by linking widgets. \n",
    "    \n",
    "    :param x: update value\n",
    "    \"\"\"\n",
    "    w = MapTools.update_nesw(x)\n",
    "    l = widgets.link((w.children[0], 'value'), (north, 'value'))\n",
    "\n",
    "def update_east(x):\n",
    "    \"\"\"\"\n",
    "    Updates the 'East' coordinate display by linking widgets. \n",
    "    \n",
    "    :param x: update value\n",
    "    \"\"\"\n",
    "    w = MapTools.update_nesw(x)\n",
    "    l = widgets.link((w.children[0], 'value'), (east, 'value'))\n",
    "\n",
    "def update_south(x):\n",
    "    \"\"\"\"\n",
    "    Updates the 'South' coordinate display by linking widgets. \n",
    "    \n",
    "    :param x: update value\n",
    "    \"\"\"\n",
    "    w = MapTools.update_nesw(x)\n",
    "    l = widgets.link((w.children[0], 'value'), (south, 'value'))\n",
    "\n",
    "def update_west(x):\n",
    "    \"\"\"\"\n",
    "    Updates the 'West' coordinate display by linking widgets. \n",
    "    \n",
    "    :param x: update value\n",
    "    \"\"\"\n",
    "    w = MapTools.update_nesw(x)\n",
    "    l = widgets.link((w.children[0], 'value'), (west, 'value'))    \n",
    "            \n",
    "        \n",
    "def handle_draw(self, action, geo_json):\n",
    "    \"\"\"\n",
    "    Handles drawing of layers on the map by extracting coordinates\n",
    "    and updating the relevant coordinate display box.\n",
    "    \n",
    "    :param action: \n",
    "    :param geo_json: \n",
    "    \n",
    "    :return:\n",
    "    \"\"\"\n",
    "    w = Widgets()\n",
    "    d = Data(out)\n",
    "    \n",
    "    s = geo_json.get('geometry','type')\n",
    "    t = s.get('type')\n",
    "    \n",
    "    if t == 'Point':\n",
    "        north, east, south, west = MapTools.get_coords_point(geo_json)\n",
    "        update_north(north)\n",
    "        update_east(east)\n",
    "        update_south(south)\n",
    "        update_west(west)\n",
    "\n",
    "    if t == 'Polygon':\n",
    "        north, east, south, west = MapTools.get_coords_polygon(geo_json)\n",
    "        update_north(north)\n",
    "        update_east(east)\n",
    "        update_south(south)\n",
    "        update_west(west)\n",
    "\n",
    "def update(*args):\n",
    "    subproduct.options = w.get_subproduct_list(product.value)\n",
    "\n",
    "m = MapTools(center=(1, -5), zoom=2, width='380px', height='500px')\n",
    "m.map.add_control(m.dc)\n",
    "m.prepare_map()\n",
    "\n",
    "w = Widgets()\n",
    "product = w.product()\n",
    "subproduct = w.subproduct()\n",
    "north = w.get_point(38.0, 'North: ')\n",
    "east = w.get_point(53.0, 'East: ')\n",
    "south = w.get_point((-36), 'South: ')\n",
    "west = w.get_point((-19), 'West: ')\n",
    "date1 = w.get_date(datetime.datetime(2018,1,1), 'Date 1: ')\n",
    "hour1 = w.get_hour('00', 'Hour 1: ')\n",
    "date2 = w.get_date(datetime.datetime(2018,1,2), 'Date 2: ')\n",
    "hour2 = w.get_hour('00', 'Hour 2: ')\n",
    "\n",
    "date1.layout = widgets.Layout(width='auto', height='auto')\n",
    "date2.layout = widgets.Layout(width='auto', height='auto')\n",
    "north.layout = widgets.Layout(width='auto', height='auto')\n",
    "east.layout = widgets.Layout(width='auto', height='auto')\n",
    "south.layout = widgets.Layout(width='auto', height='auto')\n",
    "west.layout = widgets.Layout(width='auto', height='auto')\n",
    "\n",
    "button = w.set_up_button(on_button_clicked, \"Get data\")\n",
    "w.display_widget_comparison(product, subproduct, north, east, south, west, \n",
    "                            date1, hour1, date2, hour2, button, m.map)\n",
    "\n",
    "label = widgets.Label()\n",
    "m.mouse_interaction(label)\n",
    "\n",
    "update()\n",
    "product.observe(update)\n",
    "\n",
    "out = w.display_output()\n",
    "\n",
    "m.dc.on_draw(handle_draw)"
   ]
  },
  {
   "cell_type": "code",
   "execution_count": null,
   "metadata": {},
   "outputs": [],
   "source": []
  }
 ],
 "metadata": {
  "celltoolbar": "Initialization Cell",
  "kernelspec": {
   "display_name": "Python 3",
   "language": "python",
   "name": "python3"
  },
  "language_info": {
   "codemirror_mode": {
    "name": "ipython",
    "version": 3
   },
   "file_extension": ".py",
   "mimetype": "text/x-python",
   "name": "python",
   "nbconvert_exporter": "python",
   "pygments_lexer": "ipython3",
   "version": "3.7.3"
  },
  "varInspector": {
   "cols": {
    "lenName": 16,
    "lenType": 16,
    "lenVar": 40
   },
   "kernels_config": {
    "python": {
     "delete_cmd_postfix": "",
     "delete_cmd_prefix": "del ",
     "library": "var_list.py",
     "varRefreshCmd": "print(var_dic_list())"
    },
    "r": {
     "delete_cmd_postfix": ") ",
     "delete_cmd_prefix": "rm(",
     "library": "var_list.r",
     "varRefreshCmd": "cat(var_dic_list()) "
    }
   },
   "types_to_exclude": [
    "module",
    "function",
    "builtin_function_or_method",
    "instance",
    "_Feature"
   ],
   "window_display": false
  }
 },
 "nbformat": 4,
 "nbformat_minor": 4
}
