{
 "cells": [
  {
   "cell_type": "markdown",
   "metadata": {},
   "source": [
    "![Assimila logo](../../helpers/logosmall.png \"Assimila\")\n",
    "# Compare bounding box for 2 time steps"
   ]
  },
  {
   "cell_type": "code",
   "execution_count": 1,
   "metadata": {
    "hide_input": true
   },
   "outputs": [
    {
     "data": {
      "text/html": [
       "\n",
       "<style>\n",
       ".container { \n",
       "    width:60% !important; \n",
       "}\n",
       "</style>\n"
      ],
      "text/plain": [
       "<IPython.core.display.HTML object>"
      ]
     },
     "metadata": {},
     "output_type": "display_data"
    },
    {
     "data": {
      "text/html": [
       "<style>\n",
       "    .widget-label { min-width: 20ex !important; }\n",
       "</style>"
      ],
      "text/plain": [
       "<IPython.core.display.HTML object>"
      ]
     },
     "metadata": {},
     "output_type": "display_data"
    },
    {
     "data": {
      "application/vnd.jupyter.widget-view+json": {
       "model_id": "8b9b1950aace4aa9aefa82f6e1080a78",
       "version_major": 2,
       "version_minor": 0
      },
      "text/plain": [
       "Dropdown(description='Product:', layout=Layout(height='auto', width='30%'), options=('chirps', 'tamsat', 'era5…"
      ]
     },
     "metadata": {},
     "output_type": "display_data"
    },
    {
     "data": {
      "application/vnd.jupyter.widget-view+json": {
       "model_id": "117c0b3ff33f4efebba997e4ea6e1dce",
       "version_major": 2,
       "version_minor": 0
      },
      "text/plain": [
       "Dropdown(description='Subproduct:', layout=Layout(height='auto', width='30%'), options=(), value=None)"
      ]
     },
     "metadata": {},
     "output_type": "display_data"
    },
    {
     "data": {
      "application/vnd.jupyter.widget-view+json": {
       "model_id": "501a53dd0a444fb9bde8356e4d967a3f",
       "version_major": 2,
       "version_minor": 0
      },
      "text/plain": [
       "BoundedFloatText(value=-1.3, description='Latitude 1: ', layout=Layout(height='auto', width='30%'), max=999999…"
      ]
     },
     "metadata": {},
     "output_type": "display_data"
    },
    {
     "data": {
      "application/vnd.jupyter.widget-view+json": {
       "model_id": "8dca158b9999427fb41572712c6b4bfd",
       "version_major": 2,
       "version_minor": 0
      },
      "text/plain": [
       "BoundedFloatText(value=36.0, description='Longitude 1: ', layout=Layout(height='auto', width='30%'), max=99999…"
      ]
     },
     "metadata": {},
     "output_type": "display_data"
    },
    {
     "data": {
      "application/vnd.jupyter.widget-view+json": {
       "model_id": "aa57fd7eefa345f1bcb9c2e7c42f28b3",
       "version_major": 2,
       "version_minor": 0
      },
      "text/plain": [
       "BoundedFloatText(value=-15.0, description='Latitude 2: ', layout=Layout(height='auto', width='30%'), max=99999…"
      ]
     },
     "metadata": {},
     "output_type": "display_data"
    },
    {
     "data": {
      "application/vnd.jupyter.widget-view+json": {
       "model_id": "20f28dd0d2274b11b2b470519c4559ca",
       "version_major": 2,
       "version_minor": 0
      },
      "text/plain": [
       "BoundedFloatText(value=25.0, description='Longitude 2: ', layout=Layout(height='auto', width='30%'), max=99999…"
      ]
     },
     "metadata": {},
     "output_type": "display_data"
    },
    {
     "data": {
      "application/vnd.jupyter.widget-view+json": {
       "model_id": "cbb010a289f54fe5a6979fdff4f0c3f4",
       "version_major": 2,
       "version_minor": 0
      },
      "text/plain": [
       "DatePicker(value=datetime.datetime(2018, 1, 1, 0, 0), description='Start date: ', layout=Layout(height='auto',…"
      ]
     },
     "metadata": {},
     "output_type": "display_data"
    },
    {
     "data": {
      "application/vnd.jupyter.widget-view+json": {
       "model_id": "1b876aa23a074a95a9d17a395d96a032",
       "version_major": 2,
       "version_minor": 0
      },
      "text/plain": [
       "IntSlider(value=0, description='Start hour: ', layout=Layout(height='auto', width='30%'), max=23)"
      ]
     },
     "metadata": {},
     "output_type": "display_data"
    },
    {
     "data": {
      "application/vnd.jupyter.widget-view+json": {
       "model_id": "10ca45ad41674bf38fea1b83c4fc6d5a",
       "version_major": 2,
       "version_minor": 0
      },
      "text/plain": [
       "DatePicker(value=datetime.datetime(2018, 1, 10, 0, 0), description='End date: ', layout=Layout(height='auto', …"
      ]
     },
     "metadata": {},
     "output_type": "display_data"
    },
    {
     "data": {
      "application/vnd.jupyter.widget-view+json": {
       "model_id": "e7a62909995440e995ae7b02c0cce345",
       "version_major": 2,
       "version_minor": 0
      },
      "text/plain": [
       "IntSlider(value=0, description='End hour: ', layout=Layout(height='auto', width='30%'), max=23)"
      ]
     },
     "metadata": {},
     "output_type": "display_data"
    },
    {
     "data": {
      "application/vnd.jupyter.widget-view+json": {
       "model_id": "78da1d34f9574ed6bd1fde71aea4bdbb",
       "version_major": 2,
       "version_minor": 0
      },
      "text/plain": [
       "LoadedButton(button_style='primary', description='Get data', layout=Layout(height='auto', width='auto'), style…"
      ]
     },
     "metadata": {},
     "output_type": "display_data"
    },
    {
     "data": {
      "application/vnd.jupyter.widget-view+json": {
       "model_id": "98eacf8abab74e1bbc1c04c652f943a3",
       "version_major": 2,
       "version_minor": 0
      },
      "text/plain": [
       "Output()"
      ]
     },
     "metadata": {},
     "output_type": "display_data"
    }
   ],
   "source": [
    "import sys\n",
    "sys.path.append(\"../../helpers\")\n",
    "\n",
    "from data import Data\n",
    "from maptools import MapTools\n",
    "from widgets import Widgets\n",
    "\n",
    "import ipywidgets as widgets\n",
    "\n",
    "import matplotlib\n",
    "%matplotlib inline\n",
    "matplotlib.use(\"nbagg\")\n",
    "\n",
    "import datetime\n",
    "from IPython.core.display import HTML\n",
    "display(HTML(\"\"\"\n",
    "<style>\n",
    ".container { \n",
    "    width:60% !important; \n",
    "}\n",
    "</style>\n",
    "\"\"\"))\n",
    "\n",
    "display(HTML('''<style>\n",
    "    .widget-label { min-width: 20ex !important; }\n",
    "</style>'''))\n",
    "\n",
    "\n",
    "def on_button_clicked(b):\n",
    "    button.disabled = True\n",
    "    d = D(out)\n",
    "    m1 = d.compare_two_locations(product.value, subproduct.value, lat1.value, lon1.value, lat2.value, lon2.value,\n",
    "                                                  start_date, start_hour, end_date, end_hour)\n",
    "    button.disabled = False\n",
    "    \n",
    "#widgets \n",
    "w = Widgets()\n",
    "product = w.product()\n",
    "subproduct = w.subproduct()\n",
    "lat1 = w.get_point(-1.3, 'Latitude 1: ')\n",
    "lon1 = w.get_point(36, 'Longitude 1: ')\n",
    "lat2 = w.get_point(-15.0, 'Latitude 2: ')\n",
    "lon2 = w.get_point(25.0, 'Longitude 2: ')\n",
    "start_date = w.get_date(datetime.datetime(2018,1,1), 'Start date: ')\n",
    "start_hour = w.get_hour('00', 'Start hour: ')\n",
    "end_date = w.get_date(datetime.datetime(2018,1,10), 'End date: ')\n",
    "end_hour = w.get_hour('00', 'End hour: ')\n",
    "\n",
    "product.layout = widgets.Layout(width='30%', height='auto')\n",
    "subproduct.layout = widgets.Layout(width='30%', height='auto')\n",
    "lat1.layout = widgets.Layout(width='30%', height='auto')\n",
    "lon1.layout = widgets.Layout(width='30%', height='auto')\n",
    "lat2.layout = widgets.Layout(width='30%', height='auto')\n",
    "lon2.layout = widgets.Layout(width='30%', height='auto')\n",
    "start_date.layout = widgets.Layout(width='30%', height='auto')\n",
    "start_hour.layout = widgets.Layout(width='30%', height='auto')\n",
    "end_date.layout = widgets.Layout(width='30%', height='auto')\n",
    "end_hour.layout = widgets.Layout(width='30%', height='auto')\n",
    "\n",
    "button = w.set_up_button(on_button_clicked, \"Get data\")\n",
    "w.display_widget([product, subproduct, lat1, lon1, lat2, lon2, start_date, start_hour, end_date, end_hour, button])\n",
    "out = w.display_output()\n",
    "\n",
    "def update(*args):\n",
    "    subproduct.options = w.get_subproduct_list(product.value)\n",
    "\n",
    "    update()\n",
    "product.observe(update)\n"
   ]
  },
  {
   "cell_type": "code",
   "execution_count": null,
   "metadata": {},
   "outputs": [],
   "source": []
  }
 ],
 "metadata": {
  "kernelspec": {
   "display_name": "Python 3",
   "language": "python",
   "name": "python3"
  },
  "language_info": {
   "codemirror_mode": {
    "name": "ipython",
    "version": 3
   },
   "file_extension": ".py",
   "mimetype": "text/x-python",
   "name": "python",
   "nbconvert_exporter": "python",
   "pygments_lexer": "ipython3",
   "version": "3.7.3"
  },
  "varInspector": {
   "cols": {
    "lenName": 16,
    "lenType": 16,
    "lenVar": 40
   },
   "kernels_config": {
    "python": {
     "delete_cmd_postfix": "",
     "delete_cmd_prefix": "del ",
     "library": "var_list.py",
     "varRefreshCmd": "print(var_dic_list())"
    },
    "r": {
     "delete_cmd_postfix": ") ",
     "delete_cmd_prefix": "rm(",
     "library": "var_list.r",
     "varRefreshCmd": "cat(var_dic_list()) "
    }
   },
   "types_to_exclude": [
    "module",
    "function",
    "builtin_function_or_method",
    "instance",
    "_Feature"
   ],
   "window_display": false
  }
 },
 "nbformat": 4,
 "nbformat_minor": 4
}
