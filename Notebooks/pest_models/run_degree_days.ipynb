{
 "cells": [
  {
   "cell_type": "markdown",
   "metadata": {},
   "source": [
    "![Assimila logo](../../helpers/logosmall.png \"Assimila\")\n",
    "# Calculate Degree Days for Custom Pest"
   ]
  },
  {
   "cell_type": "code",
   "execution_count": 2,
   "metadata": {
    "hide_input": false,
    "init_cell": true
   },
   "outputs": [
    {
     "data": {
      "text/html": [
       "\n",
       "<style>\n",
       ".container { \n",
       "    width:60% !important; \n",
       "}\n",
       "</style>\n"
      ],
      "text/plain": [
       "<IPython.core.display.HTML object>"
      ]
     },
     "metadata": {},
     "output_type": "display_data"
    },
    {
     "data": {
      "text/html": [
       "<style>\n",
       "    .widget-label { min-width: 20ex !important; }\n",
       "</style>"
      ],
      "text/plain": [
       "<IPython.core.display.HTML object>"
      ]
     },
     "metadata": {},
     "output_type": "display_data"
    },
    {
     "data": {
      "application/vnd.jupyter.widget-view+json": {
       "model_id": "a3c0c4d80aba42079674e6a9d41f1a02",
       "version_major": 2,
       "version_minor": 0
      },
      "text/plain": [
       "BoundedFloatText(value=7.5, description='Latitude (y):', layout=Layout(height='auto', width='30%'), max=90.0, …"
      ]
     },
     "metadata": {},
     "output_type": "display_data"
    },
    {
     "data": {
      "application/vnd.jupyter.widget-view+json": {
       "model_id": "d53b4362008f4f249c483dac61c0e712",
       "version_major": 2,
       "version_minor": 0
      },
      "text/plain": [
       "BoundedFloatText(value=7.5, description='Longitude (x):', layout=Layout(height='auto', width='30%'), max=180.0…"
      ]
     },
     "metadata": {},
     "output_type": "display_data"
    },
    {
     "data": {
      "application/vnd.jupyter.widget-view+json": {
       "model_id": "db3a8f22d816470b99a3c834f911e703",
       "version_major": 2,
       "version_minor": 0
      },
      "text/plain": [
       "DatePicker(value=datetime.datetime(2000, 1, 1, 0, 0), description='Start Date: ', layout=Layout(height='auto',…"
      ]
     },
     "metadata": {},
     "output_type": "display_data"
    },
    {
     "data": {
      "application/vnd.jupyter.widget-view+json": {
       "model_id": "e5b0b3625a1c4542818d5e163c3919dc",
       "version_major": 2,
       "version_minor": 0
      },
      "text/plain": [
       "DatePicker(value=datetime.datetime(2000, 2, 1, 0, 0), description='End Date: ', layout=Layout(height='auto', w…"
      ]
     },
     "metadata": {},
     "output_type": "display_data"
    },
    {
     "data": {
      "application/vnd.jupyter.widget-view+json": {
       "model_id": "016e6503e06546469cf3cd027db65bc5",
       "version_major": 2,
       "version_minor": 0
      },
      "text/plain": [
       "BoundedFloatText(value=10.0, description='Lower threshold:', layout=Layout(height='auto', width='30%'), min=-1…"
      ]
     },
     "metadata": {},
     "output_type": "display_data"
    },
    {
     "data": {
      "application/vnd.jupyter.widget-view+json": {
       "model_id": "de373b15a22b4a7a8373b553dd6eedb4",
       "version_major": 2,
       "version_minor": 0
      },
      "text/plain": [
       "BoundedFloatText(value=30.0, description='Upper threshold:', layout=Layout(height='auto', width='30%'), min=-1…"
      ]
     },
     "metadata": {},
     "output_type": "display_data"
    },
    {
     "data": {
      "application/vnd.jupyter.widget-view+json": {
       "model_id": "f9b2ea0c7a104e24830e9647e36c50d2",
       "version_major": 2,
       "version_minor": 0
      },
      "text/plain": [
       "Dropdown(description='Temperature:', layout=Layout(height='auto', width='30%'), options=('skt', 't2m'), value=…"
      ]
     },
     "metadata": {},
     "output_type": "display_data"
    },
    {
     "data": {
      "application/vnd.jupyter.widget-view+json": {
       "model_id": "ce1a28d50be34544b8baa8c47304e7bc",
       "version_major": 2,
       "version_minor": 0
      },
      "text/plain": [
       "RadioButtons(description='Cut-off type:', layout=Layout(height='auto', width='auto'), options=('Vertical', 'Ho…"
      ]
     },
     "metadata": {},
     "output_type": "display_data"
    },
    {
     "data": {
      "application/vnd.jupyter.widget-view+json": {
       "model_id": "239d390b856d48598cb5f6122f10ba26",
       "version_major": 2,
       "version_minor": 0
      },
      "text/plain": [
       "LoadedButton(button_style='primary', description='Get Data', layout=Layout(height='auto', width='auto'), style…"
      ]
     },
     "metadata": {},
     "output_type": "display_data"
    },
    {
     "data": {
      "application/vnd.jupyter.widget-view+json": {
       "model_id": "22324e9eb0344833bcfabe791035acbc",
       "version_major": 2,
       "version_minor": 0
      },
      "text/plain": [
       "Output()"
      ]
     },
     "metadata": {},
     "output_type": "display_data"
    }
   ],
   "source": [
    "import sys\n",
    "sys.path.append(\"../../helpers\")\n",
    "\n",
    "from data import Data\n",
    "from maptools import MapTools\n",
    "from widgets import Widgets\n",
    "\n",
    "\n",
    "import matplotlib\n",
    "%matplotlib inline\n",
    "matplotlib.use(\"nbagg\")\n",
    "\n",
    "import ipywidgets as widgets\n",
    "\n",
    "from IPython.core.display import HTML\n",
    "\n",
    "display(HTML(\"\"\"\n",
    "<style>\n",
    ".container { \n",
    "    width:60% !important; \n",
    "}\n",
    "</style>\n",
    "\"\"\"))\n",
    "\n",
    "display(HTML('''<style>\n",
    "    .widget-label { min-width: 20ex !important; }\n",
    "</style>'''))\n",
    "\n",
    "def on_button_clicked(b): \n",
    "\n",
    "    button.disabled = True\n",
    "    \n",
    "    d = Data(out)\n",
    "    d.calculate_degree_days(latitude.value,\n",
    "                            longitude.value,\n",
    "                            start.value,\n",
    "                            end.value,\n",
    "                            lower.value,\n",
    "                            upper.value,\n",
    "                            temp.value,\n",
    "                            cutoff.value)  \n",
    "    button.disabled = False\n",
    "\n",
    "\n",
    "w = Widgets()\n",
    "start, end = w.get_date_widgets()\n",
    "cutoff = w.cutoff_type()\n",
    "latitude, longitude = w.get_lat_lon_widgets()\n",
    "lower = w.degree_day_threshold(-10.0, 100.0, 10.0, \"Lower threshold:\")\n",
    "upper = w.degree_day_threshold(-10.0, 100.0, 30.0, \"Upper threshold:\")\n",
    "temp = w.degree_day_temp()\n",
    "\n",
    "start.layout = widgets.Layout(width='30%', height='auto')\n",
    "end.layout = widgets.Layout(width='30%', height='auto')\n",
    "latitude.layout = widgets.Layout(width='30%', height='auto')\n",
    "longitude.layout = widgets.Layout(width='30%', height='auto')\n",
    "upper.layout = widgets.Layout(width='30%', height='auto')\n",
    "lower.layout = widgets.Layout(width='30%', height='auto')\n",
    "temp.layout = widgets.Layout(width='30%', height='auto')\n",
    "\n",
    "button = w.set_up_button(on_button_clicked, \"Get Data\")\n",
    "w.display_widget([latitude, longitude, start, end, lower, upper, temp, cutoff, button])\n",
    "\n",
    "out = w.display_output()\n"
   ]
  },
  {
   "cell_type": "code",
   "execution_count": null,
   "metadata": {},
   "outputs": [],
   "source": []
  }
 ],
 "metadata": {
  "celltoolbar": "Initialization Cell",
  "kernelspec": {
   "display_name": "Python 3",
   "language": "python",
   "name": "python3"
  },
  "language_info": {
   "codemirror_mode": {
    "name": "ipython",
    "version": 3
   },
   "file_extension": ".py",
   "mimetype": "text/x-python",
   "name": "python",
   "nbconvert_exporter": "python",
   "pygments_lexer": "ipython3",
   "version": "3.7.3"
  },
  "varInspector": {
   "cols": {
    "lenName": 16,
    "lenType": 16,
    "lenVar": 40
   },
   "kernels_config": {
    "python": {
     "delete_cmd_postfix": "",
     "delete_cmd_prefix": "del ",
     "library": "var_list.py",
     "varRefreshCmd": "print(var_dic_list())"
    },
    "r": {
     "delete_cmd_postfix": ") ",
     "delete_cmd_prefix": "rm(",
     "library": "var_list.r",
     "varRefreshCmd": "cat(var_dic_list()) "
    }
   },
   "types_to_exclude": [
    "module",
    "function",
    "builtin_function_or_method",
    "instance",
    "_Feature"
   ],
   "window_display": false
  }
 },
 "nbformat": 4,
 "nbformat_minor": 4
}
