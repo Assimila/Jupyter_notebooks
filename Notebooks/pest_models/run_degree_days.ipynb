{
 "cells": [
  {
   "cell_type": "markdown",
   "metadata": {},
   "source": [
    "![Assimila logo](../../helpers/logosmall.png \"Assimila\")\n",
    "# Calculate Degree Days for Custom Pest"
   ]
  },
  {
   "cell_type": "code",
   "execution_count": 1,
   "metadata": {
    "hide_input": true,
    "init_cell": true
   },
   "outputs": [
    {
     "data": {
      "text/html": [
       "\n",
       "<style>\n",
       ".container { \n",
       "    width:60% !important; \n",
       "}\n",
       "</style>\n"
      ],
      "text/plain": [
       "<IPython.core.display.HTML object>"
      ]
     },
     "metadata": {},
     "output_type": "display_data"
    },
    {
     "data": {
      "text/html": [
       "<style>\n",
       "    .widget-label { min-width: 20ex !important; }\n",
       "</style>"
      ],
      "text/plain": [
       "<IPython.core.display.HTML object>"
      ]
     },
     "metadata": {},
     "output_type": "display_data"
    },
    {
     "data": {
      "application/vnd.jupyter.widget-view+json": {
       "model_id": "a2fc24e8d8ae4ca8993999f3944c155e",
       "version_major": 2,
       "version_minor": 0
      },
      "text/plain": [
       "BoundedFloatText(value=7.5, description='Latitude (y):', layout=Layout(height='auto', width='30%'), max=90.0, …"
      ]
     },
     "metadata": {},
     "output_type": "display_data"
    },
    {
     "data": {
      "application/vnd.jupyter.widget-view+json": {
       "model_id": "08a9335f838647068f5fc51574494b1a",
       "version_major": 2,
       "version_minor": 0
      },
      "text/plain": [
       "BoundedFloatText(value=7.5, description='Longitude (x):', layout=Layout(height='auto', width='30%'), max=180.0…"
      ]
     },
     "metadata": {},
     "output_type": "display_data"
    },
    {
     "data": {
      "application/vnd.jupyter.widget-view+json": {
       "model_id": "bc0c3576e61541eeb8ff0ca6e476731d",
       "version_major": 2,
       "version_minor": 0
      },
      "text/plain": [
       "DatePicker(value=datetime.datetime(2000, 1, 1, 0, 0), description='Start Date: ', layout=Layout(height='auto',…"
      ]
     },
     "metadata": {},
     "output_type": "display_data"
    },
    {
     "data": {
      "application/vnd.jupyter.widget-view+json": {
       "model_id": "d78b262c4bdd43d5ae23eceabf650564",
       "version_major": 2,
       "version_minor": 0
      },
      "text/plain": [
       "DatePicker(value=datetime.datetime(2000, 2, 1, 0, 0), description='End Date: ', layout=Layout(height='auto', w…"
      ]
     },
     "metadata": {},
     "output_type": "display_data"
    },
    {
     "data": {
      "application/vnd.jupyter.widget-view+json": {
       "model_id": "ddc1d9971f4140bca6dfb8d5aaa1e1c1",
       "version_major": 2,
       "version_minor": 0
      },
      "text/plain": [
       "BoundedFloatText(value=10.0, description='Lower threshold:', layout=Layout(height='auto', width='30%'), min=-1…"
      ]
     },
     "metadata": {},
     "output_type": "display_data"
    },
    {
     "data": {
      "application/vnd.jupyter.widget-view+json": {
       "model_id": "a090f0f2cf034b4a85bbe7c9483b927e",
       "version_major": 2,
       "version_minor": 0
      },
      "text/plain": [
       "BoundedFloatText(value=30.0, description='Upper threshold:', layout=Layout(height='auto', width='30%'), min=-1…"
      ]
     },
     "metadata": {},
     "output_type": "display_data"
    },
    {
     "data": {
      "application/vnd.jupyter.widget-view+json": {
       "model_id": "976ede5ab11f4eb69078f418f3a2ca3f",
       "version_major": 2,
       "version_minor": 0
      },
      "text/plain": [
       "Dropdown(description='Temperature:', layout=Layout(height='auto', width='30%'), options=('skt', 't2m'), value=…"
      ]
     },
     "metadata": {},
     "output_type": "display_data"
    },
    {
     "data": {
      "application/vnd.jupyter.widget-view+json": {
       "model_id": "9defc9b1416a448bbcb6e9f8cc22fb2c",
       "version_major": 2,
       "version_minor": 0
      },
      "text/plain": [
       "RadioButtons(description='Cut-off type:', layout=Layout(height='auto', width='auto'), options=('Vertical', 'Ho…"
      ]
     },
     "metadata": {},
     "output_type": "display_data"
    },
    {
     "data": {
      "application/vnd.jupyter.widget-view+json": {
       "model_id": "ddc6ad27537c47fc814121b346976bea",
       "version_major": 2,
       "version_minor": 0
      },
      "text/plain": [
       "LoadedButton(button_style='primary', description='Get Data', layout=Layout(height='auto', width='auto'), style…"
      ]
     },
     "metadata": {},
     "output_type": "display_data"
    },
    {
     "data": {
      "application/vnd.jupyter.widget-view+json": {
       "model_id": "bb35ec1b9e144f4baacaeb80d05bc198",
       "version_major": 2,
       "version_minor": 0
      },
      "text/plain": [
       "Output()"
      ]
     },
     "metadata": {},
     "output_type": "display_data"
    }
   ],
   "source": [
    "import sys\n",
    "sys.path.append(\"../../helpers\")\n",
    "\n",
    "from data import Data\n",
    "from maptools import MapTools\n",
    "from widgets import Widgets\n",
    "\n",
    "\n",
    "import matplotlib\n",
    "%matplotlib inline\n",
    "matplotlib.use(\"nbagg\")\n",
    "\n",
    "import ipywidgets as widgets\n",
    "\n",
    "from IPython.core.display import HTML\n",
    "\n",
    "display(HTML(\"\"\"\n",
    "<style>\n",
    ".container { \n",
    "    width:60% !important; \n",
    "}\n",
    "</style>\n",
    "\"\"\"))\n",
    "\n",
    "display(HTML('''<style>\n",
    "    .widget-label { min-width: 20ex !important; }\n",
    "</style>'''))\n",
    "\n",
    "def on_button_clicked(b): \n",
    "\n",
    "    button.disabled = True\n",
    "    \n",
    "    d = Data(out)\n",
    "    d.calculate_degree_days(latitude.value,\n",
    "                            longitude.value,\n",
    "                            start.value,\n",
    "                            end.value,\n",
    "                            lower.value,\n",
    "                            upper.value,\n",
    "                            temp.value,\n",
    "                            cutoff.value)  \n",
    "    button.disabled = False\n",
    "\n",
    "\n",
    "w = Widgets()\n",
    "start, end = w.get_date_widgets()\n",
    "cutoff = w.cutoff_type()\n",
    "latitude, longitude = w.get_lat_lon_widgets()\n",
    "lower = w.degree_day_threshold(-10.0, 100.0, 10.0, \"Lower threshold:\")\n",
    "upper = w.degree_day_threshold(-10.0, 100.0, 30.0, \"Upper threshold:\")\n",
    "temp = w.degree_day_temp()\n",
    "\n",
    "start.layout = widgets.Layout(width='30%', height='auto')\n",
    "end.layout = widgets.Layout(width='30%', height='auto')\n",
    "latitude.layout = widgets.Layout(width='30%', height='auto')\n",
    "longitude.layout = widgets.Layout(width='30%', height='auto')\n",
    "upper.layout = widgets.Layout(width='30%', height='auto')\n",
    "lower.layout = widgets.Layout(width='30%', height='auto')\n",
    "temp.layout = widgets.Layout(width='30%', height='auto')\n",
    "\n",
    "button = w.set_up_button(on_button_clicked, \"Get Data\")\n",
    "w.display_widget([latitude, longitude, start, end, lower, upper, temp, cutoff, button])\n",
    "\n",
    "out = w.display_output()\n"
   ]
  },
  {
   "cell_type": "code",
   "execution_count": null,
   "metadata": {},
   "outputs": [],
   "source": []
  }
 ],
 "metadata": {
  "celltoolbar": "Initialization Cell",
  "kernelspec": {
   "display_name": "Python 3",
   "language": "python",
   "name": "python3"
  },
  "language_info": {
   "codemirror_mode": {
    "name": "ipython",
    "version": 3
   },
   "file_extension": ".py",
   "mimetype": "text/x-python",
   "name": "python",
   "nbconvert_exporter": "python",
   "pygments_lexer": "ipython3",
   "version": "3.7.3"
  },
  "varInspector": {
   "cols": {
    "lenName": 16,
    "lenType": 16,
    "lenVar": 40
   },
   "kernels_config": {
    "python": {
     "delete_cmd_postfix": "",
     "delete_cmd_prefix": "del ",
     "library": "var_list.py",
     "varRefreshCmd": "print(var_dic_list())"
    },
    "r": {
     "delete_cmd_postfix": ") ",
     "delete_cmd_prefix": "rm(",
     "library": "var_list.r",
     "varRefreshCmd": "cat(var_dic_list()) "
    }
   },
   "types_to_exclude": [
    "module",
    "function",
    "builtin_function_or_method",
    "instance",
    "_Feature"
   ],
   "window_display": false
  }
 },
 "nbformat": 4,
 "nbformat_minor": 4
}
