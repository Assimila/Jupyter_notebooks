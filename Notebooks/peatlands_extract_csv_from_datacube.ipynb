{
 "cells": [
  {
   "cell_type": "markdown",
   "metadata": {
    "hide_input": true
   },
   "source": [
    "![Assimila logo](../helpers/logosmall.png \"Assimila\")\n",
    "# Assimila Peatlands Demonstrator\n",
    "\n",
    "# Get Time Series from the Data Cube\n",
    "\n",
    "If the drop down menus do not appear restart the notebook by selecting \"Kernel\" then \"Restart\" above."
   ]
  },
  {
   "cell_type": "code",
   "execution_count": 2,
   "metadata": {
    "hide_input": false,
    "init_cell": true
   },
   "outputs": [
    {
     "data": {
      "application/vnd.jupyter.widget-view+json": {
       "model_id": "e6692b4833b64b3680f86c17b29dae4b",
       "version_major": 2,
       "version_minor": 0
      },
      "text/plain": [
       "Output()"
      ]
     },
     "metadata": {},
     "output_type": "display_data"
    },
    {
     "data": {
      "application/vnd.jupyter.widget-view+json": {
       "model_id": "7c47ff3d3292409793d1496bbb7d9a64",
       "version_major": 2,
       "version_minor": 0
      },
      "text/plain": [
       "Dropdown(description='Product:', layout=Layout(height='30px', width='250px'), options=('MOD11A1', 'MOD13A2', '…"
      ]
     },
     "metadata": {},
     "output_type": "display_data"
    },
    {
     "data": {
      "application/vnd.jupyter.widget-view+json": {
       "model_id": "621f9d57102a45c397ec6f5ef32dbd5c",
       "version_major": 2,
       "version_minor": 0
      },
      "text/plain": [
       "Dropdown(description='Subproduct:', layout=Layout(height='30px', width='250px'), options=('LST_Day_1km', 'Day_…"
      ]
     },
     "metadata": {},
     "output_type": "display_data"
    },
    {
     "data": {
      "application/vnd.jupyter.widget-view+json": {
       "model_id": "f9623c12f20a4024a0a901a0694a2ca7",
       "version_major": 2,
       "version_minor": 0
      },
      "text/plain": [
       "RadioButtons(description='Projection:', layout=Layout(height='70px', width='250px'), options=('WGS84', 'BNG', …"
      ]
     },
     "metadata": {},
     "output_type": "display_data"
    },
    {
     "data": {
      "application/vnd.jupyter.widget-view+json": {
       "model_id": "b1daf57eae334c2b88f99c5b2304a831",
       "version_major": 2,
       "version_minor": 0
      },
      "text/plain": [
       "BoundedFloatText(value=-2.28, description='Longitude (x)', layout=Layout(height='30px', width='250px'), max=18…"
      ]
     },
     "metadata": {},
     "output_type": "display_data"
    },
    {
     "data": {
      "application/vnd.jupyter.widget-view+json": {
       "model_id": "5b89ff705f694479ba6042977f50daf3",
       "version_major": 2,
       "version_minor": 0
      },
      "text/plain": [
       "BoundedFloatText(value=54.8, description='Latitude (y)', layout=Layout(height='30px', width='250px'), max=90.0…"
      ]
     },
     "metadata": {},
     "output_type": "display_data"
    },
    {
     "data": {
      "application/vnd.jupyter.widget-view+json": {
       "model_id": "b69538540bf54b64bcad059a9777fe3c",
       "version_major": 2,
       "version_minor": 0
      },
      "text/plain": [
       "DatePicker(value=datetime.date(2009, 1, 8), description='Start Date: ', layout=Layout(height='30px', width='25…"
      ]
     },
     "metadata": {},
     "output_type": "display_data"
    },
    {
     "data": {
      "application/vnd.jupyter.widget-view+json": {
       "model_id": "f3fae651d1364b2591a0b36672d2ab88",
       "version_major": 2,
       "version_minor": 0
      },
      "text/plain": [
       "DatePicker(value=datetime.date(2015, 12, 30), description='EndDate: ', layout=Layout(height='30px', width='250…"
      ]
     },
     "metadata": {},
     "output_type": "display_data"
    },
    {
     "data": {
      "application/vnd.jupyter.widget-view+json": {
       "model_id": "b0888080760048f3b2318f602fba2a5e",
       "version_major": 2,
       "version_minor": 0
      },
      "text/plain": [
       "LoadedButton(button_style='primary', description='Get Data', layout=Layout(height='30px', width='250px'), styl…"
      ]
     },
     "metadata": {},
     "output_type": "display_data"
    },
    {
     "data": {
      "application/vnd.jupyter.widget-view+json": {
       "model_id": "42f406c707e24cf8a614c07d01150ad4",
       "version_major": 2,
       "version_minor": 0
      },
      "text/plain": [
       "Output()"
      ]
     },
     "metadata": {},
     "output_type": "display_data"
    }
   ],
   "source": [
    "import datetime as dt\n",
    "import sys\n",
    "sys.path.append(\"../helpers\")\n",
    "import helpers.helpers as helpers\n",
    "%matplotlib inline\n",
    "\n",
    "def on_button_clicked(b): \n",
    "    h = helpers.Helpers(out, keyfile = \"helpers/.assimila_dq\") \n",
    "    data = h.data_to_csv(product.value,\n",
    "                  subproduct.value,\n",
    "                  projection.value,\n",
    "                  y.value,\n",
    "                  x.value,\n",
    "                  start.value,\n",
    "                  end.value)\n",
    "\n",
    "wid = helpers.Widgets()\n",
    "start, end = wid.get_date_widgets()\n",
    "start.value=dt.date(2009, 1, 8)\n",
    "end.value=dt.date(2015, 12, 30)\n",
    "x, y = wid.get_lat_lon_widgets()\n",
    "x.value = -2.28\n",
    "y.value = 54.8\n",
    "product = wid.product()\n",
    "subproduct = wid.subproduct()\n",
    "projection = wid.projection()\n",
    "button = wid.set_up_button(on_button_clicked)\n",
    "out = wid.display_output()\n",
    "\n",
    "# Define a function that updates the content of y based on what we select for x\n",
    "def update(*args):\n",
    "    subproduct.options = wid.get_subproduct_list(product.value)\n",
    "    attributes = wid.get_x_attributes(projection.value)\n",
    "    x.min = attributes['min']\n",
    "    x.max = attributes['max']\n",
    "    x.description = attributes['description']\n",
    "    attributes = wid.get_y_attributes(projection.value)\n",
    "    y.description = attributes['description']\n",
    "    y.min = attributes['min']\n",
    "    y.max = attributes['max']\n",
    "\n",
    "update()\n",
    "product.observe(update)\n",
    "projection.observe(update)\n",
    "\n",
    "wid.display_widget([product, subproduct, projection, x, y, start, end, button])\n",
    "out = wid.display_output()"
   ]
  },
  {
   "cell_type": "markdown",
   "metadata": {
    "editable": false
   },
   "source": [
    "## Available MODIS products:\n",
    "\n",
    "  - __MOD11A1 - Land surface temperature__\n",
    "  - __MOD13A2 - Vegetation indices__\n",
    "  - __MCD43A3 - Albedo__\n",
    "\n",
    "\n",
    "## MOD11A1 - Land surface temperature\n",
    "Daily, 1km resolution\n",
    "  - Day and night __land surface temperature__ (LST_Day_1km, LST_night_1km)\n",
    "\n",
    "Also:\n",
    " - __Quality control flags__ (day and night).\n",
    "   - These need interperating before using.\n",
    " - Day and night __view time__.\n",
    " - Day and night __view angle__.\n",
    " - __Clear sky coverage__ (day/night).\n",
    " - __Emissivity__ (band 31 and 32)\n",
    "\n",
    "\n",
    "## MOD13A2 - Vegetation indices\n",
    "Every 16 days, 1 km resolution\n",
    "  - Vegetation indices: __NDVI__, __EVI__\n",
    "\n",
    "Also:\n",
    "  - Vegetation index __quality indicators__\n",
    "  - __Reflectance__ for red, NIR, blue and MIR bands\n",
    "  - Viewing and sun angles: __view zenith__, __sun zenith__ and __relative azimuth__\n",
    "  - __Pixel reliability__\n",
    "\n",
    "## MCD43A3 - Albedo\n",
    "Daily, 500 m resolution\n",
    "  - __White sky albedo__ for each band\n",
    "  - __Black sky albedo__ for each band\n",
    "  - __Quality indicators__\n",
    "    - need interpretation\n"
   ]
  },
  {
   "cell_type": "markdown",
   "metadata": {},
   "source": [
    "![Assimila logo](logosmall.png \"Assimila\")"
   ]
  },
  {
   "cell_type": "code",
   "execution_count": null,
   "metadata": {},
   "outputs": [],
   "source": []
  }
 ],
 "metadata": {
  "celltoolbar": "Initialization Cell",
  "hide_input": true,
  "kernelspec": {
   "display_name": "Python 3",
   "language": "python",
   "name": "python3"
  },
  "language_info": {
   "codemirror_mode": {
    "name": "ipython",
    "version": 3
   },
   "file_extension": ".py",
   "mimetype": "text/x-python",
   "name": "python",
   "nbconvert_exporter": "python",
   "pygments_lexer": "ipython3",
   "version": "3.7.3"
  },
  "toc": {
   "base_numbering": 1,
   "nav_menu": {},
   "number_sections": false,
   "sideBar": false,
   "skip_h1_title": false,
   "title_cell": "Table of Contents",
   "title_sidebar": "Contents",
   "toc_cell": false,
   "toc_position": {},
   "toc_section_display": false,
   "toc_window_display": false
  }
 },
 "nbformat": 4,
 "nbformat_minor": 2
}
