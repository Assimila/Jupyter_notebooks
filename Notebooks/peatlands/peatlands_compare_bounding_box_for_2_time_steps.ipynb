{
 "cells": [
  {
   "cell_type": "markdown",
   "metadata": {
    "hide_input": true
   },
   "source": [
    "![Assimila logo](../../helpers/logosmall.png \"Assimila\")\n",
    "# Assimila Peatlands Demonstrator\n",
    "# Compare bounding box for 2 time steps\n",
    "\n",
    "If the drop down menus do not appear restart the notebook by selecting \"Kernel\" then \"Restart\" above."
   ]
  },
  {
   "cell_type": "code",
   "execution_count": 1,
   "metadata": {
    "ExecuteTime": {
     "end_time": "2020-12-10T13:53:10.183971Z",
     "start_time": "2020-12-10T13:53:09.870Z"
    },
    "hide_input": false,
    "init_cell": true,
    "scrolled": false
   },
   "outputs": [
    {
     "data": {
      "text/html": [
       "\n",
       "<style>\n",
       ".container { \n",
       "    width:60% !important; \n",
       "}\n",
       "</style>\n"
      ],
      "text/plain": [
       "<IPython.core.display.HTML object>"
      ]
     },
     "metadata": {},
     "output_type": "display_data"
    },
    {
     "data": {
      "text/html": [
       "<style>\n",
       "    .widget-label { min-width: 20ex !important; }\n",
       "</style>"
      ],
      "text/plain": [
       "<IPython.core.display.HTML object>"
      ]
     },
     "metadata": {},
     "output_type": "display_data"
    },
    {
     "data": {
      "application/vnd.jupyter.widget-view+json": {
       "model_id": "af9b712df61b4f9aba71a807a14ac80a",
       "version_major": 2,
       "version_minor": 0
      },
      "text/plain": [
       "HBox(children=(VBox(children=(Dropdown(description='Product:', layout=Layout(height='auto', width='auto'), opt…"
      ]
     },
     "metadata": {},
     "output_type": "display_data"
    },
    {
     "data": {
      "application/vnd.jupyter.widget-view+json": {
       "model_id": "b4f6796df63c4ef691a093a45aa533c4",
       "version_major": 2,
       "version_minor": 0
      },
      "text/plain": [
       "Label(value='')"
      ]
     },
     "metadata": {},
     "output_type": "display_data"
    },
    {
     "data": {
      "application/vnd.jupyter.widget-view+json": {
       "model_id": "e938b45894d744a1933aa3d4c165e21a",
       "version_major": 2,
       "version_minor": 0
      },
      "text/plain": [
       "Output()"
      ]
     },
     "metadata": {},
     "output_type": "display_data"
    },
    {
     "data": {
      "application/vnd.jupyter.widget-view+json": {
       "model_id": "51b7b3372311425890921608e307ecec",
       "version_major": 2,
       "version_minor": 0
      },
      "text/plain": [
       "Output()"
      ]
     },
     "metadata": {},
     "output_type": "display_data"
    }
   ],
   "source": [
    "import os\n",
    "import sys\n",
    "sys.path.append(\"../../helpers\")\n",
    "\n",
    "from data import Data\n",
    "from maptools import MapTools\n",
    "from widgets import Widgets\n",
    "\n",
    "import ipywidgets as widgets\n",
    "import matplotlib\n",
    "%matplotlib notebook\n",
    "# matplotlib.use(\"nbagg\")\n",
    "from IPython.display import clear_output\n",
    "\n",
    "from ipyleaflet import (Map, Marker, basemaps, basemap_to_tiles, \n",
    "                        TileLayer, ImageOverlay, Polyline, Polygon, \n",
    "                        Rectangle,  GeoJSON, WidgetControl,  DrawControl, \n",
    "                        LayerGroup, FullScreenControl, interactive)\n",
    "\n",
    "import ipywidgets as widgets\n",
    "import datetime\n",
    "from IPython.core.display import HTML\n",
    "\n",
    "display(HTML(\"\"\"\n",
    "<style>\n",
    ".container { \n",
    "    width:60% !important; \n",
    "}\n",
    "</style>\n",
    "\"\"\"))\n",
    "\n",
    "display(HTML('''<style>\n",
    "    .widget-label { min-width: 20ex !important; }\n",
    "</style>'''))\n",
    "\n",
    "def on_button_clicked(b):\n",
    "    button.disabled = True\n",
    "    d = Data(out)\n",
    "    m1 = d.color_map_nesw_compare_reduced(product.value, \n",
    "                                  subproduct.value, \n",
    "                                  north.value,\n",
    "                                  east.value, \n",
    "                                  south.value, \n",
    "                                  west.value,\n",
    "                                  date1.value, \n",
    "                                  date2.value)\n",
    "    button.disabled = False\n",
    "        \n",
    "def update_north(x):\n",
    "    \"\"\"\"\n",
    "    Updates the 'North' coordinate display by linking widgets. \n",
    "    \n",
    "    :param x: update value\n",
    "    \"\"\"    \n",
    "    w = MapTools.update_nesw(x)\n",
    "    l = widgets.link((w.children[0], 'value'), (north, 'value'))\n",
    "\n",
    "def update_east(x):\n",
    "    \"\"\"\"\n",
    "    Updates the 'East' coordinate display by linking widgets. \n",
    "    \n",
    "    :param x: update value\n",
    "    \"\"\"    \n",
    "    w = MapTools.update_nesw(x)\n",
    "    l = widgets.link((w.children[0], 'value'), (east, 'value'))\n",
    "\n",
    "def update_south(x):\n",
    "    \"\"\"\"\n",
    "    Updates the 'South' coordinate display by linking widgets. \n",
    "    \n",
    "    :param x: update value\n",
    "    \"\"\"\n",
    "    w = MapTools.update_nesw(x)\n",
    "    l = widgets.link((w.children[0], 'value'), (south, 'value'))\n",
    "\n",
    "def update_west(x):\n",
    "    \"\"\"\"\n",
    "    Updates the 'West' coordinate display by linking widgets. \n",
    "    \n",
    "    :param x: update value\n",
    "    \"\"\" \n",
    "    w = MapTools.update_nesw(x)\n",
    "    l = widgets.link((w.children[0], 'value'), (west, 'value'))    \n",
    "    \n",
    "\n",
    "def handle_draw(self, action, geo_json):\n",
    "    \"\"\"\n",
    "    Handles drawing of layers on the map by extracting coordinates\n",
    "    and updating the relevant coordinate display box.\n",
    "    \n",
    "    :param action: \n",
    "    :param geo_json: \n",
    "    \n",
    "    :return:\n",
    "    \"\"\"\n",
    "    w = Widgets()\n",
    "    d = Data(out)\n",
    "    \n",
    "    s = geo_json.get('geometry','type')\n",
    "    t = s.get('type')\n",
    "    \n",
    "    if t == 'Point':\n",
    "        north, east, south, west = MapTools.get_coords_point(geo_json)\n",
    "        update_north(north)\n",
    "        update_east(east)\n",
    "        update_south(south)\n",
    "        update_west(west)\n",
    "\n",
    "    if t == 'Polygon':\n",
    "        north, east, south, west = MapTools.get_coords_polygon(geo_json)\n",
    "        update_north(north)\n",
    "        update_east(east)\n",
    "        update_south(south)\n",
    "        update_west(west)\n",
    "\n",
    "def update(*args):\n",
    "    subproduct.options = w.get_subproduct_list(product.value)\n",
    "    \n",
    "m = MapTools(center=(55, 0), zoom=4, width='400px', height='400px')\n",
    "m.map.add_control(m.dc)\n",
    "m.prepare_map()      \n",
    "\n",
    "w = Widgets()\n",
    "product = w.product()\n",
    "subproduct = w.subproduct()\n",
    "projection = w.projection()\n",
    "\n",
    "north = w.get_point(60.0, 'North (lat): ')\n",
    "east = w.get_point(2.5, 'East (lon): ')\n",
    "south = w.get_point((49), 'South (lat): ')\n",
    "west = w.get_point((-13), 'West (lon): ')\n",
    "date1 = w.get_date(datetime.date(2018,1,1), 'Date 1: ')\n",
    "date2 = w.get_date(datetime.date(2018,1,17), 'Date 2: ')\n",
    "button = w.set_up_button(on_button_clicked, \"Get data\")\n",
    "w.display_widget_bounding_box(product, subproduct, north, east, south, west, \n",
    "                              date1, date2, button, m.map)\n",
    "\n",
    "product.layout = widgets.Layout(width='auto', height='auto')\n",
    "subproduct.layout = widgets.Layout(width='auto', height='auto')\n",
    "north.layout = widgets.Layout(width='auto', height='auto')\n",
    "east.layout = widgets.Layout(width='auto', height='auto')\n",
    "south.layout = widgets.Layout(width='auto', height='auto')\n",
    "west.layout = widgets.Layout(width='auto', height='auto')\n",
    "date1.layout = widgets.Layout(width='auto', height='auto')\n",
    "date2.layout = widgets.Layout(width='auto', height='auto')\n",
    "\n",
    "label = widgets.Label()\n",
    "m.mouse_interaction(label)\n",
    "product.observe(update)\n",
    "\n",
    "out = w.display_output()\n",
    "\n",
    "m.dc.on_draw(handle_draw)\n",
    "\n",
    "update()\n",
    "product.observe(update)\n",
    "\n",
    "out = w.display_output()"
   ]
  },
  {
   "cell_type": "markdown",
   "metadata": {},
   "source": [
    "## Available MODIS products:\n",
    "\n",
    "  - __MOD11A1 - Land surface temperature__\n",
    "  - __MOD13A2 - Vegetation indices__\n",
    "  - __MCD43A3 - Albedo__\n",
    "\n",
    "\n",
    "## MOD11A1 - Land surface temperature\n",
    "Daily, 1km resolution\n",
    "  - Day and night __land surface temperature__ (LST_Day_1km, LST_night_1km)\n",
    "\n",
    "Also:\n",
    " - __Quality control flags__ (day and night).\n",
    "   - These need interperating before using.\n",
    " - Day and night __view time__.\n",
    " - Day and night __view angle__.\n",
    " - __Clear sky coverage__ (day/night).\n",
    " - __Emissivity__ (band 31 and 32)\n",
    "\n",
    "\n",
    "## MOD13A2 - Vegetation indices\n",
    "Every 16 days, 1 km resolution\n",
    "  - Vegetation indices: __NDVI__, __EVI__\n",
    "\n",
    "Also:\n",
    "  - Vegetation index __quality indicators__\n",
    "  - __Reflectance__ for red, NIR, blue and MIR bands\n",
    "  - Viewing and sun angles: __view zenith__, __sun zenith__ and __relative azimuth__\n",
    "  - __Pixel reliability__\n",
    "\n",
    "## MCD43A3 - Albedo\n",
    "Daily, 500 m resolution\n",
    "  - __White sky albedo__ for each band\n",
    "  - __Black sky albedo__ for each band\n",
    "  - __Quality indicators__\n",
    "    - need interpretation"
   ]
  },
  {
   "cell_type": "code",
   "execution_count": null,
   "metadata": {},
   "outputs": [],
   "source": []
  }
 ],
 "metadata": {
  "celltoolbar": "Initialization Cell",
  "hide_input": true,
  "kernelspec": {
   "display_name": "Python 3",
   "language": "python",
   "name": "python3"
  },
  "language_info": {
   "codemirror_mode": {
    "name": "ipython",
    "version": 3
   },
   "file_extension": ".py",
   "mimetype": "text/x-python",
   "name": "python",
   "nbconvert_exporter": "python",
   "pygments_lexer": "ipython3",
   "version": "3.7.3"
  },
  "toc": {
   "base_numbering": 1,
   "nav_menu": {},
   "number_sections": false,
   "sideBar": false,
   "skip_h1_title": false,
   "title_cell": "Table of Contents",
   "title_sidebar": "Contents",
   "toc_cell": false,
   "toc_position": {},
   "toc_section_display": false,
   "toc_window_display": false
  },
  "varInspector": {
   "cols": {
    "lenName": 16,
    "lenType": 16,
    "lenVar": 40
   },
   "kernels_config": {
    "python": {
     "delete_cmd_postfix": "",
     "delete_cmd_prefix": "del ",
     "library": "var_list.py",
     "varRefreshCmd": "print(var_dic_list())"
    },
    "r": {
     "delete_cmd_postfix": ") ",
     "delete_cmd_prefix": "rm(",
     "library": "var_list.r",
     "varRefreshCmd": "cat(var_dic_list()) "
    }
   },
   "types_to_exclude": [
    "module",
    "function",
    "builtin_function_or_method",
    "instance",
    "_Feature"
   ],
   "window_display": false
  }
 },
 "nbformat": 4,
 "nbformat_minor": 2
}
