{
 "cells": [
  {
   "cell_type": "markdown",
   "metadata": {
    "hide_input": true
   },
   "source": [
    "# Compare Rainfall to Full Climatology"
   ]
  },
  {
   "cell_type": "code",
   "execution_count": 1,
   "metadata": {
    "editable": false,
    "hide_input": true,
    "init_cell": true
   },
   "outputs": [
    {
     "data": {
      "application/vnd.jupyter.widget-view+json": {
       "model_id": "5d259d04cbff4de58495dbfb80909e87",
       "version_major": 2,
       "version_minor": 0
      },
      "text/plain": [
       "Dropdown(description='Product:', layout=Layout(height='30px', width='400px'), options=('TAMSAT', 'CHIRPS', 'GP…"
      ]
     },
     "metadata": {},
     "output_type": "display_data"
    },
    {
     "data": {
      "application/vnd.jupyter.widget-view+json": {
       "model_id": "98043492c6744231831189ae194663b7",
       "version_major": 2,
       "version_minor": 0
      },
      "text/plain": [
       "BoundedFloatText(value=7.5, description='Latitude (y):', layout=Layout(height='30px', width='400px'), max=90.0…"
      ]
     },
     "metadata": {},
     "output_type": "display_data"
    },
    {
     "data": {
      "application/vnd.jupyter.widget-view+json": {
       "model_id": "9254e84c214d4c4baadf58dd0a595ce3",
       "version_major": 2,
       "version_minor": 0
      },
      "text/plain": [
       "BoundedFloatText(value=7.5, description='Longitude (x):', layout=Layout(height='30px', width='400px'), max=180…"
      ]
     },
     "metadata": {},
     "output_type": "display_data"
    },
    {
     "data": {
      "application/vnd.jupyter.widget-view+json": {
       "model_id": "e2eabf690e5c4062b2c9ec80623ec187",
       "version_major": 2,
       "version_minor": 0
      },
      "text/plain": [
       "DatePicker(value=datetime.datetime(2000, 1, 1, 0, 0), description='Start Date: ', layout=Layout(height='30px',…"
      ]
     },
     "metadata": {},
     "output_type": "display_data"
    },
    {
     "data": {
      "application/vnd.jupyter.widget-view+json": {
       "model_id": "a39cba58a7ae4d4888cc9e0ddc2a259a",
       "version_major": 2,
       "version_minor": 0
      },
      "text/plain": [
       "DatePicker(value=datetime.datetime(2000, 2, 1, 0, 0), description='EndDate: ', layout=Layout(height='30px', wi…"
      ]
     },
     "metadata": {},
     "output_type": "display_data"
    },
    {
     "data": {
      "application/vnd.jupyter.widget-view+json": {
       "model_id": "3f9f95156ec94f2395502dc8e1ae7ebd",
       "version_major": 2,
       "version_minor": 0
      },
      "text/plain": [
       "LoadedButton(button_style='primary', description='Get Data', layout=Layout(height='30px', width='400px'), styl…"
      ]
     },
     "metadata": {},
     "output_type": "display_data"
    },
    {
     "data": {
      "application/vnd.jupyter.widget-view+json": {
       "model_id": "ac3dc71924ca4d9d94a0c009a0b07b08",
       "version_major": 2,
       "version_minor": 0
      },
      "text/plain": [
       "Output()"
      ]
     },
     "metadata": {},
     "output_type": "display_data"
    }
   ],
   "source": [
    "import sys\n",
    "sys.path.append(\"helpers\")\n",
    "import helpers.helpers as helpers\n",
    "import datetime \n",
    "import matplotlib\n",
    "%matplotlib inline\n",
    "matplotlib.use(\"nbagg\")\n",
    "\n",
    "def on_button_clicked(b): \n",
    "    h = helpers.Helpers(out)\n",
    "    h.plot_rainfall_year_vs_climatology(\n",
    "        product.value,\n",
    "        latitude.value,\n",
    "        longitude.value,\n",
    "        start.value,\n",
    "        end.value)\n",
    "    \n",
    "wid = helpers.Widgets()\n",
    "start, end = wid.get_date_widgets()\n",
    "latitude, longitude = wid.get_lat_lon_widgets()\n",
    "product = wid.rainfall_products()\n",
    "button = wid.set_up_button(on_button_clicked)\n",
    "wid.display_widget([product, latitude, longitude, start, end, button])\n",
    "\n",
    "button = wid.set_up_button(on_button_clicked)\n",
    "out = wid.display_output()"
   ]
  }
 ],
 "metadata": {
  "celltoolbar": "Initialization Cell",
  "kernelspec": {
   "display_name": "Python 3",
   "language": "python",
   "name": "python3"
  },
  "language_info": {
   "codemirror_mode": {
    "name": "ipython",
    "version": 3
   },
   "file_extension": ".py",
   "mimetype": "text/x-python",
   "name": "python",
   "nbconvert_exporter": "python",
   "pygments_lexer": "ipython3",
   "version": "3.6.8"
  }
 },
 "nbformat": 4,
 "nbformat_minor": 2
}
